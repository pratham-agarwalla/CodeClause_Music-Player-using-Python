{
 "cells": [
  {
   "cell_type": "code",
   "execution_count": null,
   "id": "c265ff85",
   "metadata": {},
   "outputs": [],
   "source": [
    "import tkinter as tk\n",
    "import os\n",
    "import pygame\n",
    "\n",
    "class MusicPlayer:\n",
    "    def __init__(self, master):\n",
    "        self.master = master\n",
    "        master.title(\"Music Player\")\n",
    "        master.geometry(\"400x200\")\n",
    "\n",
    "        # Create buttons\n",
    "        self.play_button = tk.Button(master, text=\"Play\", command=self.play_music)\n",
    "        self.pause_button = tk.Button(master, text=\"Pause\", command=self.pause_music)\n",
    "        self.stop_button = tk.Button(master, text=\"Stop\", command=self.stop_music)\n",
    "        \n",
    "        # Place buttons on the screen\n",
    "        self.play_button.pack(side=tk.LEFT)\n",
    "        self.pause_button.pack(side=tk.LEFT)\n",
    "        self.stop_button.pack(side=tk.LEFT)\n",
    "        \n",
    "        # Initialize pygame\n",
    "        pygame.init()\n",
    "\n",
    "        # Set the mixer\n",
    "        pygame.mixer.init()\n",
    "\n",
    "        # Set the directory to the music folder\n",
    "        self.music_folder = (r\"C:\\Users\\tmlan\\OneDrive\\Desktop\\MUSIC\")\n",
    "        os.chdir(self.music_folder)\n",
    "\n",
    "        # Load the first song in the folder\n",
    "        self.current_song = pygame.mixer.music.load(os.listdir()[0])\n",
    "\n",
    "    def play_music(self):\n",
    "        pygame.mixer.music.play()\n",
    "\n",
    "    def pause_music(self):\n",
    "        pygame.mixer.music.pause()\n",
    "\n",
    "    def stop_music(self):\n",
    "        pygame.mixer.music.stop()\n",
    "   \n",
    "\n",
    "root = tk.Tk()\n",
    "music_player = MusicPlayer(root)\n",
    "root.mainloop()\n"
   ]
  },
  {
   "cell_type": "code",
   "execution_count": 2,
   "id": "203a1557",
   "metadata": {},
   "outputs": [
    {
     "name": "stdout",
     "output_type": "stream",
     "text": [
      "Collecting pygame\n",
      "  Downloading pygame-2.3.0-cp39-cp39-win_amd64.whl (10.6 MB)\n",
      "     ---------------------------------------- 10.6/10.6 MB 2.5 MB/s eta 0:00:00\n",
      "Installing collected packages: pygame\n",
      "Successfully installed pygame-2.3.0\n"
     ]
    },
    {
     "name": "stderr",
     "output_type": "stream",
     "text": [
      "\n",
      "[notice] A new release of pip is available: 23.0.1 -> 23.1.1\n",
      "[notice] To update, run: python.exe -m pip install --upgrade pip\n"
     ]
    }
   ],
   "source": [
    "!pip install pygame"
   ]
  },
  {
   "cell_type": "code",
   "execution_count": null,
   "id": "fa7beb85",
   "metadata": {},
   "outputs": [],
   "source": []
  }
 ],
 "metadata": {
  "kernelspec": {
   "display_name": "Python 3 (ipykernel)",
   "language": "python",
   "name": "python3"
  },
  "language_info": {
   "codemirror_mode": {
    "name": "ipython",
    "version": 3
   },
   "file_extension": ".py",
   "mimetype": "text/x-python",
   "name": "python",
   "nbconvert_exporter": "python",
   "pygments_lexer": "ipython3",
   "version": "3.9.13"
  }
 },
 "nbformat": 4,
 "nbformat_minor": 5
}
